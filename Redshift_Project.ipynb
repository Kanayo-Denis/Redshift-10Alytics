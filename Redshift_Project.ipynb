{
 "cells": [
  {
   "cell_type": "code",
   "execution_count": 1,
   "id": "4bcf42a3",
   "metadata": {},
   "outputs": [],
   "source": [
    "from sqlalchemy import create_engine\n",
    "import pandas as pd"
   ]
  },
  {
   "cell_type": "code",
   "execution_count": 2,
   "id": "b773ced1",
   "metadata": {},
   "outputs": [],
   "source": [
    "host = 'menace-10alytics.032716360714.us-east-1.redshift-serverless.amazonaws.com'\n",
    "db = 'c5'\n",
    "port = 5439 \n",
    "username = 'menace'\n",
    "password = 'Menace97'"
   ]
  },
  {
   "cell_type": "code",
   "execution_count": 3,
   "id": "a66ebe24",
   "metadata": {},
   "outputs": [
    {
     "data": {
      "text/plain": [
       "<sqlalchemy.engine.base.Connection at 0x23e9971f590>"
      ]
     },
     "execution_count": 3,
     "metadata": {},
     "output_type": "execute_result"
    }
   ],
   "source": [
    "engine = create_engine(f'postgresql://{username}:{password}@{host}:{port}/{db}')\n",
    "engine.connect()"
   ]
  },
  {
   "cell_type": "code",
   "execution_count": 27,
   "id": "e7cd1be9",
   "metadata": {},
   "outputs": [
    {
     "data": {
      "text/html": [
       "<div>\n",
       "<style scoped>\n",
       "    .dataframe tbody tr th:only-of-type {\n",
       "        vertical-align: middle;\n",
       "    }\n",
       "\n",
       "    .dataframe tbody tr th {\n",
       "        vertical-align: top;\n",
       "    }\n",
       "\n",
       "    .dataframe thead th {\n",
       "        text-align: right;\n",
       "    }\n",
       "</style>\n",
       "<table border=\"1\" class=\"dataframe\">\n",
       "  <thead>\n",
       "    <tr style=\"text-align: right;\">\n",
       "      <th></th>\n",
       "      <th>date</th>\n",
       "      <th>user_id</th>\n",
       "      <th>event_name</th>\n",
       "      <th>mobile_os_type</th>\n",
       "      <th>version_type</th>\n",
       "    </tr>\n",
       "  </thead>\n",
       "  <tbody>\n",
       "    <tr>\n",
       "      <th>0</th>\n",
       "      <td>1/1/2020</td>\n",
       "      <td>0741d2813527501f6c9fd2c66bd59c0e</td>\n",
       "      <td>push_received</td>\n",
       "      <td>U683CL</td>\n",
       "      <td>11.3.1</td>\n",
       "    </tr>\n",
       "    <tr>\n",
       "      <th>1</th>\n",
       "      <td>1/2/2020</td>\n",
       "      <td>f5d1bd9f7a7be974367019665910989e</td>\n",
       "      <td>push_received</td>\n",
       "      <td>U683CL</td>\n",
       "      <td>11.3.1</td>\n",
       "    </tr>\n",
       "    <tr>\n",
       "      <th>2</th>\n",
       "      <td>1/3/2020</td>\n",
       "      <td>325b61cf1c4dc2a51eaf7ded19a48d98</td>\n",
       "      <td>push_received</td>\n",
       "      <td>U683CL</td>\n",
       "      <td>11.3.0</td>\n",
       "    </tr>\n",
       "    <tr>\n",
       "      <th>3</th>\n",
       "      <td>1/4/2020</td>\n",
       "      <td>ad32a2073e48423c2cd7ff3da30065d8</td>\n",
       "      <td>screen_view</td>\n",
       "      <td>U683CL</td>\n",
       "      <td>11.3.1</td>\n",
       "    </tr>\n",
       "  </tbody>\n",
       "</table>\n",
       "</div>"
      ],
      "text/plain": [
       "       date                           user_id     event_name mobile_os_type  \\\n",
       "0  1/1/2020  0741d2813527501f6c9fd2c66bd59c0e  push_received         U683CL   \n",
       "1  1/2/2020  f5d1bd9f7a7be974367019665910989e  push_received         U683CL   \n",
       "2  1/3/2020  325b61cf1c4dc2a51eaf7ded19a48d98  push_received         U683CL   \n",
       "3  1/4/2020  ad32a2073e48423c2cd7ff3da30065d8    screen_view         U683CL   \n",
       "\n",
       "  version_type  \n",
       "0       11.3.1  \n",
       "1       11.3.1  \n",
       "2       11.3.0  \n",
       "3       11.3.1  "
      ]
     },
     "execution_count": 27,
     "metadata": {},
     "output_type": "execute_result"
    }
   ],
   "source": [
    "query = ''' SELECT * FROM logs_data LIMIT 4 '''\n",
    "\n",
    "pd.read_sql(query,engine)"
   ]
  },
  {
   "cell_type": "code",
   "execution_count": null,
   "id": "992fd35c",
   "metadata": {},
   "outputs": [],
   "source": []
  },
  {
   "cell_type": "code",
   "execution_count": 14,
   "id": "a9088d15",
   "metadata": {},
   "outputs": [],
   "source": [
    "import boto3"
   ]
  },
  {
   "cell_type": "code",
   "execution_count": 20,
   "id": "3ebf3c7c",
   "metadata": {},
   "outputs": [],
   "source": [
    "# Sales data download\n",
    "# Create an S3 client\n",
    "s3 = boto3.client('s3')\n",
    "\n",
    "# Specify the bucket name and object key\n",
    "bucket_name = 'tenalytics-c9'\n",
    "object_key = 'data/sales_data.csv'\n",
    "\n",
    "# Download the object to a local file\n",
    "s3.download_file(bucket_name, object_key, 'sales_data.csv')\n"
   ]
  },
  {
   "cell_type": "code",
   "execution_count": 15,
   "id": "fe49e548",
   "metadata": {},
   "outputs": [
    {
     "data": {
      "text/plain": [
       "'C:\\\\Users\\\\Temporary\\\\Documents'"
      ]
     },
     "execution_count": 15,
     "metadata": {},
     "output_type": "execute_result"
    }
   ],
   "source": [
    "pwd()"
   ]
  },
  {
   "cell_type": "code",
   "execution_count": 21,
   "id": "3ddc52cc",
   "metadata": {},
   "outputs": [],
   "source": [
    "# Customer data download\n",
    "# Create an S3 client\n",
    "s3 = boto3.client('s3')\n",
    "\n",
    "# Specify the bucket name and object key\n",
    "bucket_name = 'tenalytics-c9'\n",
    "object_key = 'data/customer_profiles.csv'\n",
    "\n",
    "# Download the object to a local file\n",
    "s3.download_file(bucket_name, object_key, 'customer_profiles.csv')\n"
   ]
  },
  {
   "cell_type": "markdown",
   "id": "2001f094",
   "metadata": {},
   "source": [
    "# Redshift console"
   ]
  },
  {
   "cell_type": "code",
   "execution_count": 4,
   "id": "d287825f",
   "metadata": {},
   "outputs": [
    {
     "data": {
      "text/html": [
       "<div>\n",
       "<style scoped>\n",
       "    .dataframe tbody tr th:only-of-type {\n",
       "        vertical-align: middle;\n",
       "    }\n",
       "\n",
       "    .dataframe tbody tr th {\n",
       "        vertical-align: top;\n",
       "    }\n",
       "\n",
       "    .dataframe thead th {\n",
       "        text-align: right;\n",
       "    }\n",
       "</style>\n",
       "<table border=\"1\" class=\"dataframe\">\n",
       "  <thead>\n",
       "    <tr style=\"text-align: right;\">\n",
       "      <th></th>\n",
       "      <th>order_id</th>\n",
       "      <th>product_name</th>\n",
       "      <th>product_category</th>\n",
       "      <th>price</th>\n",
       "      <th>quantity</th>\n",
       "      <th>sale_date</th>\n",
       "      <th>customer_id</th>\n",
       "    </tr>\n",
       "  </thead>\n",
       "  <tbody>\n",
       "    <tr>\n",
       "      <th>0</th>\n",
       "      <td>1</td>\n",
       "      <td>life</td>\n",
       "      <td>Hydration</td>\n",
       "      <td>70.39</td>\n",
       "      <td>9</td>\n",
       "      <td>2022-04-28</td>\n",
       "      <td>4856</td>\n",
       "    </tr>\n",
       "    <tr>\n",
       "      <th>1</th>\n",
       "      <td>2</td>\n",
       "      <td>worry</td>\n",
       "      <td>Electronics</td>\n",
       "      <td>22.60</td>\n",
       "      <td>10</td>\n",
       "      <td>2022-06-29</td>\n",
       "      <td>5142</td>\n",
       "    </tr>\n",
       "    <tr>\n",
       "      <th>2</th>\n",
       "      <td>3</td>\n",
       "      <td>city</td>\n",
       "      <td>Hydration</td>\n",
       "      <td>23.54</td>\n",
       "      <td>7</td>\n",
       "      <td>2022-09-23</td>\n",
       "      <td>3710</td>\n",
       "    </tr>\n",
       "    <tr>\n",
       "      <th>3</th>\n",
       "      <td>4</td>\n",
       "      <td>form</td>\n",
       "      <td>Hydration</td>\n",
       "      <td>15.21</td>\n",
       "      <td>8</td>\n",
       "      <td>2022-08-14</td>\n",
       "      <td>3817</td>\n",
       "    </tr>\n",
       "  </tbody>\n",
       "</table>\n",
       "</div>"
      ],
      "text/plain": [
       "   order_id product_name product_category  price  quantity   sale_date  \\\n",
       "0         1         life        Hydration  70.39         9  2022-04-28   \n",
       "1         2        worry      Electronics  22.60        10  2022-06-29   \n",
       "2         3         city        Hydration  23.54         7  2022-09-23   \n",
       "3         4         form        Hydration  15.21         8  2022-08-14   \n",
       "\n",
       "   customer_id  \n",
       "0         4856  \n",
       "1         5142  \n",
       "2         3710  \n",
       "3         3817  "
      ]
     },
     "execution_count": 4,
     "metadata": {},
     "output_type": "execute_result"
    }
   ],
   "source": [
    "# The data was loaded into redshift using the web console\n",
    "# Now is time to for exploratory data analysis \n",
    "query = ''' SELECT * FROM sales_data ORDER BY order_id  LIMIT 4 '''\n",
    "\n",
    "pd.read_sql(query,engine)"
   ]
  },
  {
   "cell_type": "code",
   "execution_count": 5,
   "id": "9cdd5b5f",
   "metadata": {},
   "outputs": [
    {
     "data": {
      "text/html": [
       "<div>\n",
       "<style scoped>\n",
       "    .dataframe tbody tr th:only-of-type {\n",
       "        vertical-align: middle;\n",
       "    }\n",
       "\n",
       "    .dataframe tbody tr th {\n",
       "        vertical-align: top;\n",
       "    }\n",
       "\n",
       "    .dataframe thead th {\n",
       "        text-align: right;\n",
       "    }\n",
       "</style>\n",
       "<table border=\"1\" class=\"dataframe\">\n",
       "  <thead>\n",
       "    <tr style=\"text-align: right;\">\n",
       "      <th></th>\n",
       "      <th>customer_id</th>\n",
       "      <th>first_name</th>\n",
       "      <th>last_name</th>\n",
       "      <th>gender</th>\n",
       "      <th>location</th>\n",
       "      <th>join_date</th>\n",
       "      <th>customer_segment</th>\n",
       "    </tr>\n",
       "  </thead>\n",
       "  <tbody>\n",
       "    <tr>\n",
       "      <th>0</th>\n",
       "      <td>1</td>\n",
       "      <td>Stephanie</td>\n",
       "      <td>Montoya</td>\n",
       "      <td>Female</td>\n",
       "      <td>Tennessee</td>\n",
       "      <td>2021-06-23</td>\n",
       "      <td>Organic Advocate</td>\n",
       "    </tr>\n",
       "    <tr>\n",
       "      <th>1</th>\n",
       "      <td>2</td>\n",
       "      <td>Howard</td>\n",
       "      <td>Hall</td>\n",
       "      <td>Female</td>\n",
       "      <td>North Carolina</td>\n",
       "      <td>2022-06-06</td>\n",
       "      <td>Waste Reducer</td>\n",
       "    </tr>\n",
       "    <tr>\n",
       "      <th>2</th>\n",
       "      <td>3</td>\n",
       "      <td>Jennifer</td>\n",
       "      <td>Gardner</td>\n",
       "      <td>Male</td>\n",
       "      <td>Massachusetts</td>\n",
       "      <td>2022-03-04</td>\n",
       "      <td>Recycler</td>\n",
       "    </tr>\n",
       "    <tr>\n",
       "      <th>3</th>\n",
       "      <td>4</td>\n",
       "      <td>Gabrielle</td>\n",
       "      <td>Flores</td>\n",
       "      <td>Female</td>\n",
       "      <td>Missouri</td>\n",
       "      <td>2022-09-25</td>\n",
       "      <td>Waste Reducer</td>\n",
       "    </tr>\n",
       "  </tbody>\n",
       "</table>\n",
       "</div>"
      ],
      "text/plain": [
       "   customer_id first_name last_name  gender        location   join_date  \\\n",
       "0            1  Stephanie   Montoya  Female       Tennessee  2021-06-23   \n",
       "1            2     Howard      Hall  Female  North Carolina  2022-06-06   \n",
       "2            3   Jennifer   Gardner    Male   Massachusetts  2022-03-04   \n",
       "3            4  Gabrielle    Flores  Female        Missouri  2022-09-25   \n",
       "\n",
       "   customer_segment  \n",
       "0  Organic Advocate  \n",
       "1     Waste Reducer  \n",
       "2          Recycler  \n",
       "3     Waste Reducer  "
      ]
     },
     "execution_count": 5,
     "metadata": {},
     "output_type": "execute_result"
    }
   ],
   "source": [
    "query = ''' SELECT * FROM customer_profiles ORDER BY customer_id  LIMIT 4 '''\n",
    "\n",
    "pd.read_sql(query,engine)"
   ]
  },
  {
   "cell_type": "markdown",
   "id": "656fc6e4",
   "metadata": {},
   "source": [
    "Calculate the total sales revenue generated from sustainable \n",
    "products each month for the year 2022. Sustainable products are \n",
    "those that meet specific criteria for eco-friendliness.\n"
   ]
  },
  {
   "cell_type": "code",
   "execution_count": 20,
   "id": "0a0ed779",
   "metadata": {},
   "outputs": [
    {
     "data": {
      "text/html": [
       "<div>\n",
       "<style scoped>\n",
       "    .dataframe tbody tr th:only-of-type {\n",
       "        vertical-align: middle;\n",
       "    }\n",
       "\n",
       "    .dataframe tbody tr th {\n",
       "        vertical-align: top;\n",
       "    }\n",
       "\n",
       "    .dataframe thead th {\n",
       "        text-align: right;\n",
       "    }\n",
       "</style>\n",
       "<table border=\"1\" class=\"dataframe\">\n",
       "  <thead>\n",
       "    <tr style=\"text-align: right;\">\n",
       "      <th></th>\n",
       "      <th>month</th>\n",
       "      <th>total_sales_revenue</th>\n",
       "    </tr>\n",
       "  </thead>\n",
       "  <tbody>\n",
       "    <tr>\n",
       "      <th>0</th>\n",
       "      <td>2022-01</td>\n",
       "      <td>39433.39</td>\n",
       "    </tr>\n",
       "    <tr>\n",
       "      <th>1</th>\n",
       "      <td>2022-02</td>\n",
       "      <td>47418.05</td>\n",
       "    </tr>\n",
       "    <tr>\n",
       "      <th>2</th>\n",
       "      <td>2022-03</td>\n",
       "      <td>48862.27</td>\n",
       "    </tr>\n",
       "    <tr>\n",
       "      <th>3</th>\n",
       "      <td>2022-04</td>\n",
       "      <td>49377.16</td>\n",
       "    </tr>\n",
       "    <tr>\n",
       "      <th>4</th>\n",
       "      <td>2022-05</td>\n",
       "      <td>48739.12</td>\n",
       "    </tr>\n",
       "    <tr>\n",
       "      <th>5</th>\n",
       "      <td>2022-06</td>\n",
       "      <td>52300.91</td>\n",
       "    </tr>\n",
       "    <tr>\n",
       "      <th>6</th>\n",
       "      <td>2022-07</td>\n",
       "      <td>46067.10</td>\n",
       "    </tr>\n",
       "    <tr>\n",
       "      <th>7</th>\n",
       "      <td>2022-08</td>\n",
       "      <td>42234.54</td>\n",
       "    </tr>\n",
       "    <tr>\n",
       "      <th>8</th>\n",
       "      <td>2022-09</td>\n",
       "      <td>49626.42</td>\n",
       "    </tr>\n",
       "    <tr>\n",
       "      <th>9</th>\n",
       "      <td>2022-10</td>\n",
       "      <td>43456.81</td>\n",
       "    </tr>\n",
       "    <tr>\n",
       "      <th>10</th>\n",
       "      <td>2022-11</td>\n",
       "      <td>46864.86</td>\n",
       "    </tr>\n",
       "    <tr>\n",
       "      <th>11</th>\n",
       "      <td>2022-12</td>\n",
       "      <td>45337.87</td>\n",
       "    </tr>\n",
       "  </tbody>\n",
       "</table>\n",
       "</div>"
      ],
      "text/plain": [
       "      month  total_sales_revenue\n",
       "0   2022-01             39433.39\n",
       "1   2022-02             47418.05\n",
       "2   2022-03             48862.27\n",
       "3   2022-04             49377.16\n",
       "4   2022-05             48739.12\n",
       "5   2022-06             52300.91\n",
       "6   2022-07             46067.10\n",
       "7   2022-08             42234.54\n",
       "8   2022-09             49626.42\n",
       "9   2022-10             43456.81\n",
       "10  2022-11             46864.86\n",
       "11  2022-12             45337.87"
      ]
     },
     "execution_count": 20,
     "metadata": {},
     "output_type": "execute_result"
    }
   ],
   "source": [
    "query = ''' \n",
    "SELECT\n",
    "    TO_CHAR(SALE_DATE::DATE, 'YYYY-MM') AS month,\n",
    "    SUM(PRICE * QUANTITY) AS total_sales_revenue\n",
    "FROM\n",
    "    SALES_DATA\n",
    "WHERE\n",
    "    EXTRACT(YEAR FROM SALE_DATE::DATE) = 2022\n",
    "    AND product_category = 'Hydration'\n",
    "GROUP BY\n",
    "    month\n",
    "ORDER BY\n",
    "    month;\n",
    "\n",
    "'''\n",
    "\n",
    "pd.read_sql(query,engine)"
   ]
  },
  {
   "cell_type": "markdown",
   "id": "e09c3339",
   "metadata": {},
   "source": [
    "Identify the top five customer segments (based on customer \n",
    "profiles) that contribute the most to EcoMarket's revenue in 2022"
   ]
  },
  {
   "cell_type": "code",
   "execution_count": 14,
   "id": "537a08f9",
   "metadata": {},
   "outputs": [
    {
     "data": {
      "text/html": [
       "<div>\n",
       "<style scoped>\n",
       "    .dataframe tbody tr th:only-of-type {\n",
       "        vertical-align: middle;\n",
       "    }\n",
       "\n",
       "    .dataframe tbody tr th {\n",
       "        vertical-align: top;\n",
       "    }\n",
       "\n",
       "    .dataframe thead th {\n",
       "        text-align: right;\n",
       "    }\n",
       "</style>\n",
       "<table border=\"1\" class=\"dataframe\">\n",
       "  <thead>\n",
       "    <tr style=\"text-align: right;\">\n",
       "      <th></th>\n",
       "      <th>total_customer_segment</th>\n",
       "    </tr>\n",
       "  </thead>\n",
       "  <tbody>\n",
       "    <tr>\n",
       "      <th>0</th>\n",
       "      <td>427034.19</td>\n",
       "    </tr>\n",
       "    <tr>\n",
       "      <th>1</th>\n",
       "      <td>419151.91</td>\n",
       "    </tr>\n",
       "    <tr>\n",
       "      <th>2</th>\n",
       "      <td>417520.78</td>\n",
       "    </tr>\n",
       "    <tr>\n",
       "      <th>3</th>\n",
       "      <td>411112.01</td>\n",
       "    </tr>\n",
       "    <tr>\n",
       "      <th>4</th>\n",
       "      <td>410613.30</td>\n",
       "    </tr>\n",
       "  </tbody>\n",
       "</table>\n",
       "</div>"
      ],
      "text/plain": [
       "   total_customer_segment\n",
       "0               427034.19\n",
       "1               419151.91\n",
       "2               417520.78\n",
       "3               411112.01\n",
       "4               410613.30"
      ]
     },
     "execution_count": 14,
     "metadata": {},
     "output_type": "execute_result"
    }
   ],
   "source": [
    "query = ''' \n",
    "SELECT total_customer_segment \n",
    "FROM (SELECT\n",
    "    cp.customer_segment AS total_customer_segment,\n",
    "    SUM(sd.price * sd.quantity) \n",
    "FROM\n",
    "    customer_profiles cp\n",
    "JOIN\n",
    "    sales_data sd\n",
    "    ON cp.customer_id = sd.customer_id\n",
    "WHERE\n",
    "    EXTRACT(YEAR FROM TO_DATE(sd.sale_date, 'YYYY-MM-DD')) = 2022\n",
    "GROUP BY\n",
    "    cp.customer_segment\n",
    "ORDER BY\n",
    "    total_customer_segment DESC\n",
    "LIMIT 5)\n",
    "\n",
    "'''\n",
    "\n",
    "pd.read_sql(query,engine)"
   ]
  },
  {
   "cell_type": "code",
   "execution_count": 25,
   "id": "d74ac0c3",
   "metadata": {},
   "outputs": [],
   "source": [
    "# This is the sql code for my report\n",
    "query = ''' \n",
    "SELECT * \n",
    "FROM\n",
    "(SELECT\n",
    "    TO_CHAR(SALE_DATE::DATE, 'YYYY-MM') AS month,\n",
    "    SUM(PRICE * QUANTITY) AS total_sales_revenue\n",
    "FROM\n",
    "    SALES_DATA\n",
    "WHERE\n",
    "    EXTRACT(YEAR FROM SALE_DATE::DATE) = 2022\n",
    "    AND product_category = 'Hydration'\n",
    "GROUP BY\n",
    "    month\n",
    "ORDER BY\n",
    "    month) as a,\n",
    "(SELECT total_customer_segment \n",
    "FROM (SELECT\n",
    "    cp.customer_segment AS total_customer_segment,\n",
    "    SUM(sd.price * sd.quantity)\n",
    "FROM\n",
    "    customer_profiles cp\n",
    "JOIN\n",
    "    sales_data sd\n",
    "    ON cp.customer_id = sd.customer_id\n",
    "WHERE\n",
    "    EXTRACT(YEAR FROM TO_DATE(sd.sale_date, 'YYYY-MM-DD')) = 2022\n",
    "GROUP BY\n",
    "    cp.customer_segment\n",
    "ORDER BY\n",
    "    total_customer_segment DESC\n",
    "LIMIT 5) as total_customer_segment) as b\n",
    "\n",
    "order by total_sales_revenue DESC\n",
    "'''\n",
    "\n",
    "df = pd.read_sql(query,engine)"
   ]
  },
  {
   "cell_type": "code",
   "execution_count": 26,
   "id": "c7df4d63",
   "metadata": {},
   "outputs": [
    {
     "data": {
      "text/plain": [
       "60"
      ]
     },
     "execution_count": 26,
     "metadata": {},
     "output_type": "execute_result"
    }
   ],
   "source": [
    "df.to_sql('eco_sales_insights',if_exists='replace',con=engine,index=False)"
   ]
  },
  {
   "cell_type": "code",
   "execution_count": null,
   "id": "ca33434c",
   "metadata": {},
   "outputs": [],
   "source": [
    "df.to_DatFrame"
   ]
  },
  {
   "cell_type": "code",
   "execution_count": null,
   "id": "78d22ccd",
   "metadata": {},
   "outputs": [],
   "source": [
    "# Sales data download\n",
    "# Create an S3 client\n",
    "s3 = boto3.client('s3')\n",
    "\n",
    "# Specify the bucket name and object key\n",
    "bucket_name = 'tenalytics-c9'\n",
    "object_key = 'data/sales_data.csv'\n",
    "\n",
    "# Download the object to a local file\n",
    "s3.download_file(bucket_name, object_key, 'sales_data.csv')\n"
   ]
  },
  {
   "cell_type": "code",
   "execution_count": null,
   "id": "2ceb6346",
   "metadata": {},
   "outputs": [],
   "source": []
  },
  {
   "cell_type": "code",
   "execution_count": null,
   "id": "1a362453",
   "metadata": {},
   "outputs": [],
   "source": []
  },
  {
   "cell_type": "code",
   "execution_count": null,
   "id": "d1588e78",
   "metadata": {},
   "outputs": [],
   "source": []
  },
  {
   "cell_type": "code",
   "execution_count": null,
   "id": "82610e92",
   "metadata": {},
   "outputs": [],
   "source": []
  },
  {
   "cell_type": "code",
   "execution_count": null,
   "id": "fb4adab6",
   "metadata": {},
   "outputs": [],
   "source": []
  }
 ],
 "metadata": {
  "kernelspec": {
   "display_name": "Python 3 (ipykernel)",
   "language": "python",
   "name": "python3"
  },
  "language_info": {
   "codemirror_mode": {
    "name": "ipython",
    "version": 3
   },
   "file_extension": ".py",
   "mimetype": "text/x-python",
   "name": "python",
   "nbconvert_exporter": "python",
   "pygments_lexer": "ipython3",
   "version": "3.11.4"
  }
 },
 "nbformat": 4,
 "nbformat_minor": 5
}
